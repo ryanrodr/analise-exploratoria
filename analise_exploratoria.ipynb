{
 "cells": [
  {
   "cell_type": "markdown",
   "metadata": {},
   "source": [
    "### Análise Exploratória \n",
    "[Jobs and Salaries in Data Science](https://www.kaggle.com/datasets/hummaamqaasim/jobs-in-data)"
   ]
  },
  {
   "cell_type": "markdown",
   "metadata": {},
   "source": [
    "#### Importando os dados"
   ]
  },
  {
   "cell_type": "code",
   "execution_count": 73,
   "metadata": {},
   "outputs": [],
   "source": [
    "# Importando as bibliotecas necessárias\n",
    "import pandas as pd\n",
    "from matplotlib import pyplot as plt"
   ]
  },
  {
   "cell_type": "code",
   "execution_count": 74,
   "metadata": {},
   "outputs": [],
   "source": [
    "# Carregando o dataset\n",
    "data = pd.read_csv('jobs_in_data.csv')"
   ]
  },
  {
   "cell_type": "code",
   "execution_count": 75,
   "metadata": {},
   "outputs": [
    {
     "name": "stdout",
     "output_type": "stream",
     "text": [
      "9355 linhas e 12 colunas\n"
     ]
    }
   ],
   "source": [
    "print(f'{data.shape[0]} linhas e {data.shape[1]} colunas')"
   ]
  },
  {
   "cell_type": "code",
   "execution_count": 76,
   "metadata": {},
   "outputs": [
    {
     "data": {
      "text/plain": [
       "Index(['work_year', 'job_title', 'job_category', 'salary_currency', 'salary',\n",
       "       'salary_in_usd', 'employee_residence', 'experience_level',\n",
       "       'employment_type', 'work_setting', 'company_location', 'company_size'],\n",
       "      dtype='object')"
      ]
     },
     "execution_count": 76,
     "metadata": {},
     "output_type": "execute_result"
    }
   ],
   "source": [
    "data.columns"
   ]
  },
  {
   "cell_type": "markdown",
   "metadata": {},
   "source": [
    "#### Limpeza e preparação dos dados"
   ]
  },
  {
   "cell_type": "markdown",
   "metadata": {},
   "source": [
    "- Identificando valores ausentes NaN (Not a Number) ou dados duplicados."
   ]
  },
  {
   "cell_type": "code",
   "execution_count": 77,
   "metadata": {},
   "outputs": [
    {
     "data": {
      "text/plain": [
       "work_year             0\n",
       "job_title             0\n",
       "job_category          0\n",
       "salary_currency       0\n",
       "salary                0\n",
       "salary_in_usd         0\n",
       "employee_residence    0\n",
       "experience_level      0\n",
       "employment_type       0\n",
       "work_setting          0\n",
       "company_location      0\n",
       "company_size          0\n",
       "dtype: int64"
      ]
     },
     "execution_count": 77,
     "metadata": {},
     "output_type": "execute_result"
    }
   ],
   "source": [
    "data.isna().sum()"
   ]
  },
  {
   "cell_type": "code",
   "execution_count": 78,
   "metadata": {},
   "outputs": [
    {
     "data": {
      "text/plain": [
       "4014"
      ]
     },
     "execution_count": 78,
     "metadata": {},
     "output_type": "execute_result"
    }
   ],
   "source": [
    "data.duplicated().sum()"
   ]
  },
  {
   "cell_type": "markdown",
   "metadata": {},
   "source": [
    "- Depois de remover os dados duplicados é necessário resetar o índice\n",
    "- Fazendo com que realize a contagem correta dos valores únicos do DataFrame"
   ]
  },
  {
   "cell_type": "code",
   "execution_count": 79,
   "metadata": {},
   "outputs": [],
   "source": [
    "data = data.drop_duplicates()"
   ]
  },
  {
   "cell_type": "code",
   "execution_count": 80,
   "metadata": {},
   "outputs": [],
   "source": [
    "data = data.reset_index(drop=True)"
   ]
  },
  {
   "cell_type": "markdown",
   "metadata": {},
   "source": [
    "- Removendo colunas que não vão ser utilizadas"
   ]
  },
  {
   "cell_type": "code",
   "execution_count": 81,
   "metadata": {},
   "outputs": [],
   "source": [
    "data = data.drop(columns=['salary_currency', 'salary', 'employee_residence', 'company_location'])"
   ]
  },
  {
   "cell_type": "markdown",
   "metadata": {},
   "source": [
    "- Convertendo o tipo de dado das colunas"
   ]
  },
  {
   "cell_type": "code",
   "execution_count": 82,
   "metadata": {},
   "outputs": [
    {
     "name": "stdout",
     "output_type": "stream",
     "text": [
      "<class 'pandas.core.frame.DataFrame'>\n",
      "RangeIndex: 5341 entries, 0 to 5340\n",
      "Data columns (total 8 columns):\n",
      " #   Column            Non-Null Count  Dtype \n",
      "---  ------            --------------  ----- \n",
      " 0   work_year         5341 non-null   int64 \n",
      " 1   job_title         5341 non-null   object\n",
      " 2   job_category      5341 non-null   object\n",
      " 3   salary_in_usd     5341 non-null   int64 \n",
      " 4   experience_level  5341 non-null   object\n",
      " 5   employment_type   5341 non-null   object\n",
      " 6   work_setting      5341 non-null   object\n",
      " 7   company_size      5341 non-null   object\n",
      "dtypes: int64(2), object(6)\n",
      "memory usage: 333.9+ KB\n"
     ]
    }
   ],
   "source": [
    "data.info()"
   ]
  },
  {
   "cell_type": "code",
   "execution_count": 83,
   "metadata": {},
   "outputs": [],
   "source": [
    "# Dados categóricos economizam memória e facilitam nas análises\n",
    "colunas = ['job_category', 'experience_level', 'employment_type', 'work_setting', 'company_size']\n",
    "data[colunas] = data[colunas].astype('category')"
   ]
  },
  {
   "cell_type": "code",
   "execution_count": 84,
   "metadata": {},
   "outputs": [
    {
     "name": "stdout",
     "output_type": "stream",
     "text": [
      "<class 'pandas.core.frame.DataFrame'>\n",
      "RangeIndex: 5341 entries, 0 to 5340\n",
      "Data columns (total 8 columns):\n",
      " #   Column            Non-Null Count  Dtype   \n",
      "---  ------            --------------  -----   \n",
      " 0   work_year         5341 non-null   int64   \n",
      " 1   job_title         5341 non-null   object  \n",
      " 2   job_category      5341 non-null   category\n",
      " 3   salary_in_usd     5341 non-null   int64   \n",
      " 4   experience_level  5341 non-null   category\n",
      " 5   employment_type   5341 non-null   category\n",
      " 6   work_setting      5341 non-null   category\n",
      " 7   company_size      5341 non-null   category\n",
      "dtypes: category(5), int64(2), object(1)\n",
      "memory usage: 152.4+ KB\n"
     ]
    }
   ],
   "source": [
    "data.info()"
   ]
  },
  {
   "cell_type": "markdown",
   "metadata": {},
   "source": [
    "#### Agregação de dados e operações de grupo"
   ]
  },
  {
   "cell_type": "code",
   "execution_count": 85,
   "metadata": {},
   "outputs": [
    {
     "data": {
      "text/html": [
       "<div>\n",
       "<style scoped>\n",
       "    .dataframe tbody tr th:only-of-type {\n",
       "        vertical-align: middle;\n",
       "    }\n",
       "\n",
       "    .dataframe tbody tr th {\n",
       "        vertical-align: top;\n",
       "    }\n",
       "\n",
       "    .dataframe thead th {\n",
       "        text-align: right;\n",
       "    }\n",
       "</style>\n",
       "<table border=\"1\" class=\"dataframe\">\n",
       "  <thead>\n",
       "    <tr style=\"text-align: right;\">\n",
       "      <th></th>\n",
       "      <th>work_year</th>\n",
       "      <th>job_title</th>\n",
       "      <th>job_category</th>\n",
       "      <th>salary_in_usd</th>\n",
       "      <th>experience_level</th>\n",
       "      <th>employment_type</th>\n",
       "      <th>work_setting</th>\n",
       "      <th>company_size</th>\n",
       "    </tr>\n",
       "  </thead>\n",
       "  <tbody>\n",
       "    <tr>\n",
       "      <th>0</th>\n",
       "      <td>2023</td>\n",
       "      <td>Data DevOps Engineer</td>\n",
       "      <td>Data Engineering</td>\n",
       "      <td>95012</td>\n",
       "      <td>Mid-level</td>\n",
       "      <td>Full-time</td>\n",
       "      <td>Hybrid</td>\n",
       "      <td>L</td>\n",
       "    </tr>\n",
       "    <tr>\n",
       "      <th>1</th>\n",
       "      <td>2023</td>\n",
       "      <td>Data Architect</td>\n",
       "      <td>Data Architecture and Modeling</td>\n",
       "      <td>186000</td>\n",
       "      <td>Senior</td>\n",
       "      <td>Full-time</td>\n",
       "      <td>In-person</td>\n",
       "      <td>M</td>\n",
       "    </tr>\n",
       "    <tr>\n",
       "      <th>2</th>\n",
       "      <td>2023</td>\n",
       "      <td>Data Architect</td>\n",
       "      <td>Data Architecture and Modeling</td>\n",
       "      <td>81800</td>\n",
       "      <td>Senior</td>\n",
       "      <td>Full-time</td>\n",
       "      <td>In-person</td>\n",
       "      <td>M</td>\n",
       "    </tr>\n",
       "  </tbody>\n",
       "</table>\n",
       "</div>"
      ],
      "text/plain": [
       "   work_year             job_title                    job_category  \\\n",
       "0       2023  Data DevOps Engineer                Data Engineering   \n",
       "1       2023        Data Architect  Data Architecture and Modeling   \n",
       "2       2023        Data Architect  Data Architecture and Modeling   \n",
       "\n",
       "   salary_in_usd experience_level employment_type work_setting company_size  \n",
       "0          95012        Mid-level       Full-time       Hybrid            L  \n",
       "1         186000           Senior       Full-time    In-person            M  \n",
       "2          81800           Senior       Full-time    In-person            M  "
      ]
     },
     "execution_count": 85,
     "metadata": {},
     "output_type": "execute_result"
    }
   ],
   "source": [
    "data.head(3)"
   ]
  },
  {
   "cell_type": "markdown",
   "metadata": {},
   "source": [
    "- Resumindo os dados com `groupby` para visualizar a distribuição das vagas "
   ]
  },
  {
   "cell_type": "code",
   "execution_count": 86,
   "metadata": {},
   "outputs": [
    {
     "name": "stderr",
     "output_type": "stream",
     "text": [
      "/tmp/ipykernel_3766/3422239475.py:2: FutureWarning: The default of observed=False is deprecated and will be changed to True in a future version of pandas. Pass observed=False to retain current behavior or observed=True to adopt the future default and silence this warning.\n",
      "  group = data.groupby(['work_year', 'job_category']).size().reset_index(name='quantidade')\n"
     ]
    }
   ],
   "source": [
    "# Resumindo os dados pelo total de vagas por função e área de atuação\n",
    "group = data.groupby(['work_year', 'job_category']).size().reset_index(name='quantidade')\n",
    "\n",
    "# Selecionando somente valores existentes\n",
    "group = group[group['quantidade'] > 0]"
   ]
  },
  {
   "cell_type": "code",
   "execution_count": 87,
   "metadata": {},
   "outputs": [
    {
     "data": {
      "text/html": [
       "<div>\n",
       "<style scoped>\n",
       "    .dataframe tbody tr th:only-of-type {\n",
       "        vertical-align: middle;\n",
       "    }\n",
       "\n",
       "    .dataframe tbody tr th {\n",
       "        vertical-align: top;\n",
       "    }\n",
       "\n",
       "    .dataframe thead th {\n",
       "        text-align: right;\n",
       "    }\n",
       "</style>\n",
       "<table border=\"1\" class=\"dataframe\">\n",
       "  <thead>\n",
       "    <tr style=\"text-align: right;\">\n",
       "      <th></th>\n",
       "      <th>work_year</th>\n",
       "      <th>job_category</th>\n",
       "      <th>quantidade</th>\n",
       "    </tr>\n",
       "  </thead>\n",
       "  <tbody>\n",
       "    <tr>\n",
       "      <th>37</th>\n",
       "      <td>2023</td>\n",
       "      <td>Data Science and Research</td>\n",
       "      <td>1217</td>\n",
       "    </tr>\n",
       "    <tr>\n",
       "      <th>38</th>\n",
       "      <td>2023</td>\n",
       "      <td>Leadership and Management</td>\n",
       "      <td>271</td>\n",
       "    </tr>\n",
       "    <tr>\n",
       "      <th>39</th>\n",
       "      <td>2023</td>\n",
       "      <td>Machine Learning and AI</td>\n",
       "      <td>713</td>\n",
       "    </tr>\n",
       "  </tbody>\n",
       "</table>\n",
       "</div>"
      ],
      "text/plain": [
       "    work_year               job_category  quantidade\n",
       "37       2023  Data Science and Research        1217\n",
       "38       2023  Leadership and Management         271\n",
       "39       2023    Machine Learning and AI         713"
      ]
     },
     "execution_count": 87,
     "metadata": {},
     "output_type": "execute_result"
    }
   ],
   "source": [
    "group.tail(3)"
   ]
  },
  {
   "cell_type": "markdown",
   "metadata": {},
   "source": [
    "- Transformando o DataFrame em uma tabela dinâmica com `pivot_table`"
   ]
  },
  {
   "cell_type": "code",
   "execution_count": 88,
   "metadata": {},
   "outputs": [
    {
     "name": "stderr",
     "output_type": "stream",
     "text": [
      "/tmp/ipykernel_3766/3361481725.py:2: FutureWarning: The default value of observed=False is deprecated and will change to observed=True in a future version of pandas. Specify observed=False to silence this warning and retain the current behavior\n",
      "  tabela = group.pivot_table(index='job_category', columns='work_year').fillna(0).astype(int)\n"
     ]
    }
   ],
   "source": [
    "# Preenchendo os valores ausentes da Tabela com fillna e transformando os valores em Int\n",
    "tabela = group.pivot_table(index='job_category', columns='work_year').fillna(0).astype(int)"
   ]
  },
  {
   "cell_type": "code",
   "execution_count": 89,
   "metadata": {},
   "outputs": [],
   "source": [
    "# Acrescentando Totais Gerais na tabela e ordenando os dados\n",
    "tabela['Total'] = tabela.sum(axis=1)\n",
    "tabela = tabela.sort_values(by='Total', ascending=False)\n",
    "tabela.loc['Total por ano'] = tabela.sum(axis=0)"
   ]
  },
  {
   "cell_type": "code",
   "execution_count": 90,
   "metadata": {},
   "outputs": [
    {
     "data": {
      "text/html": [
       "<style type=\"text/css\">\n",
       "#T_fbe46_row0_col0, #T_fbe46_row0_col1, #T_fbe46_row0_col2, #T_fbe46_row0_col3, #T_fbe46_row0_col4, #T_fbe46_row1_col0, #T_fbe46_row1_col1, #T_fbe46_row1_col2, #T_fbe46_row1_col3, #T_fbe46_row1_col4, #T_fbe46_row2_col0, #T_fbe46_row2_col1, #T_fbe46_row2_col2, #T_fbe46_row2_col3, #T_fbe46_row2_col4, #T_fbe46_row3_col0, #T_fbe46_row3_col1, #T_fbe46_row3_col2, #T_fbe46_row3_col3, #T_fbe46_row3_col4, #T_fbe46_row4_col0, #T_fbe46_row4_col1, #T_fbe46_row4_col2, #T_fbe46_row4_col3, #T_fbe46_row4_col4, #T_fbe46_row5_col0, #T_fbe46_row5_col1, #T_fbe46_row5_col2, #T_fbe46_row5_col3, #T_fbe46_row5_col4, #T_fbe46_row6_col0, #T_fbe46_row6_col1, #T_fbe46_row6_col2, #T_fbe46_row6_col3, #T_fbe46_row6_col4, #T_fbe46_row7_col0, #T_fbe46_row7_col1, #T_fbe46_row7_col2, #T_fbe46_row7_col3, #T_fbe46_row7_col4, #T_fbe46_row8_col0, #T_fbe46_row8_col1, #T_fbe46_row8_col2, #T_fbe46_row8_col3, #T_fbe46_row8_col4, #T_fbe46_row9_col0, #T_fbe46_row9_col1, #T_fbe46_row9_col2, #T_fbe46_row9_col3, #T_fbe46_row9_col4, #T_fbe46_row10_col0, #T_fbe46_row10_col1, #T_fbe46_row10_col2, #T_fbe46_row10_col3, #T_fbe46_row10_col4 {\n",
       "  text-align: center;\n",
       "}\n",
       "</style>\n",
       "<table id=\"T_fbe46\">\n",
       "  <thead>\n",
       "    <tr>\n",
       "      <th class=\"blank level0\" >&nbsp;</th>\n",
       "      <th id=\"T_fbe46_level0_col0\" class=\"col_heading level0 col0\" colspan=\"4\">quantidade</th>\n",
       "      <th id=\"T_fbe46_level0_col4\" class=\"col_heading level0 col4\" >Total</th>\n",
       "    </tr>\n",
       "    <tr>\n",
       "      <th class=\"index_name level1\" >work_year</th>\n",
       "      <th id=\"T_fbe46_level1_col0\" class=\"col_heading level1 col0\" >2020</th>\n",
       "      <th id=\"T_fbe46_level1_col1\" class=\"col_heading level1 col1\" >2021</th>\n",
       "      <th id=\"T_fbe46_level1_col2\" class=\"col_heading level1 col2\" >2022</th>\n",
       "      <th id=\"T_fbe46_level1_col3\" class=\"col_heading level1 col3\" >2023</th>\n",
       "      <th id=\"T_fbe46_level1_col4\" class=\"col_heading level1 col4\" ></th>\n",
       "    </tr>\n",
       "    <tr>\n",
       "      <th class=\"index_name level0\" >job_category</th>\n",
       "      <th class=\"blank col0\" >&nbsp;</th>\n",
       "      <th class=\"blank col1\" >&nbsp;</th>\n",
       "      <th class=\"blank col2\" >&nbsp;</th>\n",
       "      <th class=\"blank col3\" >&nbsp;</th>\n",
       "      <th class=\"blank col4\" >&nbsp;</th>\n",
       "    </tr>\n",
       "  </thead>\n",
       "  <tbody>\n",
       "    <tr>\n",
       "      <th id=\"T_fbe46_level0_row0\" class=\"row_heading level0 row0\" >Data Science and Research</th>\n",
       "      <td id=\"T_fbe46_row0_col0\" class=\"data row0 col0\" >29</td>\n",
       "      <td id=\"T_fbe46_row0_col1\" class=\"data row0 col1\" >71</td>\n",
       "      <td id=\"T_fbe46_row0_col2\" class=\"data row0 col2\" >338</td>\n",
       "      <td id=\"T_fbe46_row0_col3\" class=\"data row0 col3\" >1217</td>\n",
       "      <td id=\"T_fbe46_row0_col4\" class=\"data row0 col4\" >1655</td>\n",
       "    </tr>\n",
       "    <tr>\n",
       "      <th id=\"T_fbe46_level0_row1\" class=\"row_heading level0 row1\" >Data Engineering</th>\n",
       "      <td id=\"T_fbe46_row1_col0\" class=\"data row1 col0\" >17</td>\n",
       "      <td id=\"T_fbe46_row1_col1\" class=\"data row1 col1\" >44</td>\n",
       "      <td id=\"T_fbe46_row1_col2\" class=\"data row1 col2\" >286</td>\n",
       "      <td id=\"T_fbe46_row1_col3\" class=\"data row1 col3\" >813</td>\n",
       "      <td id=\"T_fbe46_row1_col4\" class=\"data row1 col4\" >1160</td>\n",
       "    </tr>\n",
       "    <tr>\n",
       "      <th id=\"T_fbe46_level0_row2\" class=\"row_heading level0 row2\" >Machine Learning and AI</th>\n",
       "      <td id=\"T_fbe46_row2_col0\" class=\"data row2 col0\" >10</td>\n",
       "      <td id=\"T_fbe46_row2_col1\" class=\"data row2 col1\" >37</td>\n",
       "      <td id=\"T_fbe46_row2_col2\" class=\"data row2 col2\" >157</td>\n",
       "      <td id=\"T_fbe46_row2_col3\" class=\"data row2 col3\" >713</td>\n",
       "      <td id=\"T_fbe46_row2_col4\" class=\"data row2 col4\" >917</td>\n",
       "    </tr>\n",
       "    <tr>\n",
       "      <th id=\"T_fbe46_level0_row3\" class=\"row_heading level0 row3\" >Data Analysis</th>\n",
       "      <td id=\"T_fbe46_row3_col0\" class=\"data row3 col0\" >15</td>\n",
       "      <td id=\"T_fbe46_row3_col1\" class=\"data row3 col1\" >28</td>\n",
       "      <td id=\"T_fbe46_row3_col2\" class=\"data row3 col2\" >185</td>\n",
       "      <td id=\"T_fbe46_row3_col3\" class=\"data row3 col3\" >581</td>\n",
       "      <td id=\"T_fbe46_row3_col4\" class=\"data row3 col4\" >809</td>\n",
       "    </tr>\n",
       "    <tr>\n",
       "      <th id=\"T_fbe46_level0_row4\" class=\"row_heading level0 row4\" >Leadership and Management</th>\n",
       "      <td id=\"T_fbe46_row4_col0\" class=\"data row4 col0\" >0</td>\n",
       "      <td id=\"T_fbe46_row4_col1\" class=\"data row4 col1\" >9</td>\n",
       "      <td id=\"T_fbe46_row4_col2\" class=\"data row4 col2\" >71</td>\n",
       "      <td id=\"T_fbe46_row4_col3\" class=\"data row4 col3\" >271</td>\n",
       "      <td id=\"T_fbe46_row4_col4\" class=\"data row4 col4\" >351</td>\n",
       "    </tr>\n",
       "    <tr>\n",
       "      <th id=\"T_fbe46_level0_row5\" class=\"row_heading level0 row5\" >BI and Visualization</th>\n",
       "      <td id=\"T_fbe46_row5_col0\" class=\"data row5 col0\" >0</td>\n",
       "      <td id=\"T_fbe46_row5_col1\" class=\"data row5 col1\" >0</td>\n",
       "      <td id=\"T_fbe46_row5_col2\" class=\"data row5 col2\" >8</td>\n",
       "      <td id=\"T_fbe46_row5_col3\" class=\"data row5 col3\" >180</td>\n",
       "      <td id=\"T_fbe46_row5_col4\" class=\"data row5 col4\" >188</td>\n",
       "    </tr>\n",
       "    <tr>\n",
       "      <th id=\"T_fbe46_level0_row6\" class=\"row_heading level0 row6\" >Data Architecture and Modeling</th>\n",
       "      <td id=\"T_fbe46_row6_col0\" class=\"data row6 col0\" >0</td>\n",
       "      <td id=\"T_fbe46_row6_col1\" class=\"data row6 col1\" >5</td>\n",
       "      <td id=\"T_fbe46_row6_col2\" class=\"data row6 col2\" >30</td>\n",
       "      <td id=\"T_fbe46_row6_col3\" class=\"data row6 col3\" >127</td>\n",
       "      <td id=\"T_fbe46_row6_col4\" class=\"data row6 col4\" >162</td>\n",
       "    </tr>\n",
       "    <tr>\n",
       "      <th id=\"T_fbe46_level0_row7\" class=\"row_heading level0 row7\" >Data Management and Strategy</th>\n",
       "      <td id=\"T_fbe46_row7_col0\" class=\"data row7 col0\" >0</td>\n",
       "      <td id=\"T_fbe46_row7_col1\" class=\"data row7 col1\" >1</td>\n",
       "      <td id=\"T_fbe46_row7_col2\" class=\"data row7 col2\" >10</td>\n",
       "      <td id=\"T_fbe46_row7_col3\" class=\"data row7 col3\" >38</td>\n",
       "      <td id=\"T_fbe46_row7_col4\" class=\"data row7 col4\" >49</td>\n",
       "    </tr>\n",
       "    <tr>\n",
       "      <th id=\"T_fbe46_level0_row8\" class=\"row_heading level0 row8\" >Data Quality and Operations</th>\n",
       "      <td id=\"T_fbe46_row8_col0\" class=\"data row8 col0\" >0</td>\n",
       "      <td id=\"T_fbe46_row8_col1\" class=\"data row8 col1\" >0</td>\n",
       "      <td id=\"T_fbe46_row8_col2\" class=\"data row8 col2\" >8</td>\n",
       "      <td id=\"T_fbe46_row8_col3\" class=\"data row8 col3\" >37</td>\n",
       "      <td id=\"T_fbe46_row8_col4\" class=\"data row8 col4\" >45</td>\n",
       "    </tr>\n",
       "    <tr>\n",
       "      <th id=\"T_fbe46_level0_row9\" class=\"row_heading level0 row9\" >Cloud and Database</th>\n",
       "      <td id=\"T_fbe46_row9_col0\" class=\"data row9 col0\" >0</td>\n",
       "      <td id=\"T_fbe46_row9_col1\" class=\"data row9 col1\" >0</td>\n",
       "      <td id=\"T_fbe46_row9_col2\" class=\"data row9 col2\" >2</td>\n",
       "      <td id=\"T_fbe46_row9_col3\" class=\"data row9 col3\" >3</td>\n",
       "      <td id=\"T_fbe46_row9_col4\" class=\"data row9 col4\" >5</td>\n",
       "    </tr>\n",
       "    <tr>\n",
       "      <th id=\"T_fbe46_level0_row10\" class=\"row_heading level0 row10\" >Total por ano</th>\n",
       "      <td id=\"T_fbe46_row10_col0\" class=\"data row10 col0\" >71</td>\n",
       "      <td id=\"T_fbe46_row10_col1\" class=\"data row10 col1\" >195</td>\n",
       "      <td id=\"T_fbe46_row10_col2\" class=\"data row10 col2\" >1095</td>\n",
       "      <td id=\"T_fbe46_row10_col3\" class=\"data row10 col3\" >3980</td>\n",
       "      <td id=\"T_fbe46_row10_col4\" class=\"data row10 col4\" >5341</td>\n",
       "    </tr>\n",
       "  </tbody>\n",
       "</table>\n"
      ],
      "text/plain": [
       "<pandas.io.formats.style.Styler at 0x7faf49809210>"
      ]
     },
     "execution_count": 90,
     "metadata": {},
     "output_type": "execute_result"
    }
   ],
   "source": [
    "# Centralizando e formatando a tabela\n",
    "tabela.style.set_properties(**{'text-align': 'center'})"
   ]
  },
  {
   "cell_type": "code",
   "execution_count": 91,
   "metadata": {},
   "outputs": [
    {
     "data": {
      "text/html": [
       "<div>\n",
       "<style scoped>\n",
       "    .dataframe tbody tr th:only-of-type {\n",
       "        vertical-align: middle;\n",
       "    }\n",
       "\n",
       "    .dataframe tbody tr th {\n",
       "        vertical-align: top;\n",
       "    }\n",
       "\n",
       "    .dataframe thead th {\n",
       "        text-align: right;\n",
       "    }\n",
       "</style>\n",
       "<table border=\"1\" class=\"dataframe\">\n",
       "  <thead>\n",
       "    <tr style=\"text-align: right;\">\n",
       "      <th></th>\n",
       "      <th>work_year</th>\n",
       "      <th>job_title</th>\n",
       "      <th>job_category</th>\n",
       "      <th>salary_in_usd</th>\n",
       "      <th>experience_level</th>\n",
       "      <th>employment_type</th>\n",
       "      <th>work_setting</th>\n",
       "      <th>company_size</th>\n",
       "    </tr>\n",
       "  </thead>\n",
       "  <tbody>\n",
       "    <tr>\n",
       "      <th>5338</th>\n",
       "      <td>2021</td>\n",
       "      <td>Principal Data Scientist</td>\n",
       "      <td>Data Science and Research</td>\n",
       "      <td>151000</td>\n",
       "      <td>Mid-level</td>\n",
       "      <td>Full-time</td>\n",
       "      <td>Remote</td>\n",
       "      <td>L</td>\n",
       "    </tr>\n",
       "    <tr>\n",
       "      <th>5339</th>\n",
       "      <td>2020</td>\n",
       "      <td>Data Scientist</td>\n",
       "      <td>Data Science and Research</td>\n",
       "      <td>105000</td>\n",
       "      <td>Entry-level</td>\n",
       "      <td>Full-time</td>\n",
       "      <td>Remote</td>\n",
       "      <td>S</td>\n",
       "    </tr>\n",
       "    <tr>\n",
       "      <th>5340</th>\n",
       "      <td>2020</td>\n",
       "      <td>Business Data Analyst</td>\n",
       "      <td>Data Analysis</td>\n",
       "      <td>100000</td>\n",
       "      <td>Entry-level</td>\n",
       "      <td>Contract</td>\n",
       "      <td>Remote</td>\n",
       "      <td>L</td>\n",
       "    </tr>\n",
       "  </tbody>\n",
       "</table>\n",
       "</div>"
      ],
      "text/plain": [
       "      work_year                 job_title               job_category  \\\n",
       "5338       2021  Principal Data Scientist  Data Science and Research   \n",
       "5339       2020            Data Scientist  Data Science and Research   \n",
       "5340       2020     Business Data Analyst              Data Analysis   \n",
       "\n",
       "      salary_in_usd experience_level employment_type work_setting company_size  \n",
       "5338         151000        Mid-level       Full-time       Remote            L  \n",
       "5339         105000      Entry-level       Full-time       Remote            S  \n",
       "5340         100000      Entry-level        Contract       Remote            L  "
      ]
     },
     "execution_count": 91,
     "metadata": {},
     "output_type": "execute_result"
    }
   ],
   "source": [
    "data.tail(3)"
   ]
  },
  {
   "cell_type": "markdown",
   "metadata": {},
   "source": [
    "- Quantidade de vagas e média salarial anual por categoria de trabalho em Data Science"
   ]
  },
  {
   "cell_type": "code",
   "execution_count": 92,
   "metadata": {},
   "outputs": [
    {
     "name": "stderr",
     "output_type": "stream",
     "text": [
      "/tmp/ipykernel_3766/2150741327.py:2: FutureWarning: The default of observed=False is deprecated and will be changed to True in a future version of pandas. Pass observed=False to retain current behavior or observed=True to adopt the future default and silence this warning.\n",
      "  media_categoria = data.groupby(['job_category']).agg({'job_category': 'count', 'salary_in_usd': 'mean'})\n"
     ]
    }
   ],
   "source": [
    "# Agrupando os dados por categoria de trabalho e realizando cálculos com agg\n",
    "media_categoria = data.groupby(['job_category']).agg({'job_category': 'count', 'salary_in_usd': 'mean'})\n",
    "\n",
    "# Ordenando os dados pela médial salarial anual\n",
    "media_categoria = media_categoria.sort_values(by='salary_in_usd', ascending=False)"
   ]
  },
  {
   "cell_type": "markdown",
   "metadata": {},
   "source": [
    "##### Distribuição das vagas por categoria e uma médial salarial anual sendo:\n",
    "- **Machine Learning and AI** lidera com os maiores salários e uma quantidade alta de vagas. \n",
    "- **Cloud and Database** tem um número baixo de vagas mas ainda assim com uma média salarial alta.\n",
    "- **Data Science and Research** / **Data Engineering** com alto volume de vagas e uma média salarial alta.\n",
    "- **Data Analysis** com alto número de vagas e uma média salarial baixa "
   ]
  },
  {
   "cell_type": "code",
   "execution_count": 93,
   "metadata": {},
   "outputs": [
    {
     "data": {
      "text/html": [
       "<style type=\"text/css\">\n",
       "#T_3e1d3_row0_col0, #T_3e1d3_row0_col1, #T_3e1d3_row1_col0, #T_3e1d3_row1_col1, #T_3e1d3_row2_col0, #T_3e1d3_row2_col1, #T_3e1d3_row3_col0, #T_3e1d3_row3_col1, #T_3e1d3_row4_col0, #T_3e1d3_row4_col1, #T_3e1d3_row5_col0, #T_3e1d3_row5_col1, #T_3e1d3_row6_col0, #T_3e1d3_row6_col1, #T_3e1d3_row7_col0, #T_3e1d3_row7_col1, #T_3e1d3_row8_col0, #T_3e1d3_row8_col1, #T_3e1d3_row9_col0, #T_3e1d3_row9_col1 {\n",
       "  text-align: center;\n",
       "}\n",
       "</style>\n",
       "<table id=\"T_3e1d3\">\n",
       "  <thead>\n",
       "    <tr>\n",
       "      <th class=\"blank level0\" >&nbsp;</th>\n",
       "      <th id=\"T_3e1d3_level0_col0\" class=\"col_heading level0 col0\" >job_category</th>\n",
       "      <th id=\"T_3e1d3_level0_col1\" class=\"col_heading level0 col1\" >salary_in_usd</th>\n",
       "    </tr>\n",
       "    <tr>\n",
       "      <th class=\"index_name level0\" >job_category</th>\n",
       "      <th class=\"blank col0\" >&nbsp;</th>\n",
       "      <th class=\"blank col1\" >&nbsp;</th>\n",
       "    </tr>\n",
       "  </thead>\n",
       "  <tbody>\n",
       "    <tr>\n",
       "      <th id=\"T_3e1d3_level0_row0\" class=\"row_heading level0 row0\" >Machine Learning and AI</th>\n",
       "      <td id=\"T_3e1d3_row0_col0\" class=\"data row0 col0\" >917</td>\n",
       "      <td id=\"T_3e1d3_row0_col1\" class=\"data row0 col1\" >170453.221374</td>\n",
       "    </tr>\n",
       "    <tr>\n",
       "      <th id=\"T_3e1d3_level0_row1\" class=\"row_heading level0 row1\" >Data Science and Research</th>\n",
       "      <td id=\"T_3e1d3_row1_col0\" class=\"data row1 col0\" >1655</td>\n",
       "      <td id=\"T_3e1d3_row1_col1\" class=\"data row1 col1\" >157131.039879</td>\n",
       "    </tr>\n",
       "    <tr>\n",
       "      <th id=\"T_3e1d3_level0_row2\" class=\"row_heading level0 row2\" >Data Architecture and Modeling</th>\n",
       "      <td id=\"T_3e1d3_row2_col0\" class=\"data row2 col0\" >162</td>\n",
       "      <td id=\"T_3e1d3_row2_col1\" class=\"data row2 col1\" >157054.006173</td>\n",
       "    </tr>\n",
       "    <tr>\n",
       "      <th id=\"T_3e1d3_level0_row3\" class=\"row_heading level0 row3\" >Cloud and Database</th>\n",
       "      <td id=\"T_3e1d3_row3_col0\" class=\"data row3 col0\" >5</td>\n",
       "      <td id=\"T_3e1d3_row3_col1\" class=\"data row3 col1\" >155000.000000</td>\n",
       "    </tr>\n",
       "    <tr>\n",
       "      <th id=\"T_3e1d3_level0_row4\" class=\"row_heading level0 row4\" >Leadership and Management</th>\n",
       "      <td id=\"T_3e1d3_row4_col0\" class=\"data row4 col0\" >351</td>\n",
       "      <td id=\"T_3e1d3_row4_col1\" class=\"data row4 col1\" >149020.108262</td>\n",
       "    </tr>\n",
       "    <tr>\n",
       "      <th id=\"T_3e1d3_level0_row5\" class=\"row_heading level0 row5\" >Data Engineering</th>\n",
       "      <td id=\"T_3e1d3_row5_col0\" class=\"data row5 col0\" >1160</td>\n",
       "      <td id=\"T_3e1d3_row5_col1\" class=\"data row5 col1\" >142967.543103</td>\n",
       "    </tr>\n",
       "    <tr>\n",
       "      <th id=\"T_3e1d3_level0_row6\" class=\"row_heading level0 row6\" >BI and Visualization</th>\n",
       "      <td id=\"T_3e1d3_row6_col0\" class=\"data row6 col0\" >188</td>\n",
       "      <td id=\"T_3e1d3_row6_col1\" class=\"data row6 col1\" >128377.734043</td>\n",
       "    </tr>\n",
       "    <tr>\n",
       "      <th id=\"T_3e1d3_level0_row7\" class=\"row_heading level0 row7\" >Data Management and Strategy</th>\n",
       "      <td id=\"T_3e1d3_row7_col0\" class=\"data row7 col0\" >49</td>\n",
       "      <td id=\"T_3e1d3_row7_col1\" class=\"data row7 col1\" >107655.836735</td>\n",
       "    </tr>\n",
       "    <tr>\n",
       "      <th id=\"T_3e1d3_level0_row8\" class=\"row_heading level0 row8\" >Data Analysis</th>\n",
       "      <td id=\"T_3e1d3_row8_col0\" class=\"data row8 col0\" >809</td>\n",
       "      <td id=\"T_3e1d3_row8_col1\" class=\"data row8 col1\" >106707.058096</td>\n",
       "    </tr>\n",
       "    <tr>\n",
       "      <th id=\"T_3e1d3_level0_row9\" class=\"row_heading level0 row9\" >Data Quality and Operations</th>\n",
       "      <td id=\"T_3e1d3_row9_col0\" class=\"data row9 col0\" >45</td>\n",
       "      <td id=\"T_3e1d3_row9_col1\" class=\"data row9 col1\" >104586.022222</td>\n",
       "    </tr>\n",
       "  </tbody>\n",
       "</table>\n"
      ],
      "text/plain": [
       "<pandas.io.formats.style.Styler at 0x7faf48f29ed0>"
      ]
     },
     "execution_count": 93,
     "metadata": {},
     "output_type": "execute_result"
    }
   ],
   "source": [
    "# Centralizando e formatando a tabela\n",
    "media_categoria.style.set_properties(**{'text-align': 'center'})"
   ]
  },
  {
   "cell_type": "markdown",
   "metadata": {},
   "source": [
    "##### Distribuição da média salarial anual por categoria e nível de experiência"
   ]
  },
  {
   "cell_type": "code",
   "execution_count": 94,
   "metadata": {},
   "outputs": [
    {
     "name": "stderr",
     "output_type": "stream",
     "text": [
      "/tmp/ipykernel_3766/2393813224.py:2: FutureWarning: The default of observed=False is deprecated and will be changed to True in a future version of pandas. Pass observed=False to retain current behavior or observed=True to adopt the future default and silence this warning.\n",
      "  media_experiencia = data.groupby(['experience_level', 'job_category'])['salary_in_usd'].mean().reset_index()\n"
     ]
    },
    {
     "data": {
      "text/html": [
       "<div>\n",
       "<style scoped>\n",
       "    .dataframe tbody tr th:only-of-type {\n",
       "        vertical-align: middle;\n",
       "    }\n",
       "\n",
       "    .dataframe tbody tr th {\n",
       "        vertical-align: top;\n",
       "    }\n",
       "\n",
       "    .dataframe thead th {\n",
       "        text-align: right;\n",
       "    }\n",
       "</style>\n",
       "<table border=\"1\" class=\"dataframe\">\n",
       "  <thead>\n",
       "    <tr style=\"text-align: right;\">\n",
       "      <th></th>\n",
       "      <th>experience_level</th>\n",
       "      <th>job_category</th>\n",
       "      <th>salary_in_usd</th>\n",
       "    </tr>\n",
       "  </thead>\n",
       "  <tbody>\n",
       "    <tr>\n",
       "      <th>0</th>\n",
       "      <td>Entry-level</td>\n",
       "      <td>BI and Visualization</td>\n",
       "      <td>85928.571429</td>\n",
       "    </tr>\n",
       "    <tr>\n",
       "      <th>2</th>\n",
       "      <td>Entry-level</td>\n",
       "      <td>Data Analysis</td>\n",
       "      <td>69169.810811</td>\n",
       "    </tr>\n",
       "    <tr>\n",
       "      <th>4</th>\n",
       "      <td>Entry-level</td>\n",
       "      <td>Data Engineering</td>\n",
       "      <td>87876.272727</td>\n",
       "    </tr>\n",
       "  </tbody>\n",
       "</table>\n",
       "</div>"
      ],
      "text/plain": [
       "  experience_level          job_category  salary_in_usd\n",
       "0      Entry-level  BI and Visualization   85928.571429\n",
       "2      Entry-level         Data Analysis   69169.810811\n",
       "4      Entry-level      Data Engineering   87876.272727"
      ]
     },
     "execution_count": 94,
     "metadata": {},
     "output_type": "execute_result"
    }
   ],
   "source": [
    "# Agrupando os dados por nível de experiência e categoria, calculando uma média salarial anual\n",
    "media_experiencia = data.groupby(['experience_level', 'job_category'])['salary_in_usd'].mean().reset_index()\n",
    "\n",
    "# Selecionando somente valores existentes\n",
    "media_experiencia = media_experiencia[media_experiencia['salary_in_usd'] > 0]\n",
    "media_experiencia.head(3)"
   ]
  },
  {
   "cell_type": "code",
   "execution_count": 95,
   "metadata": {},
   "outputs": [
    {
     "name": "stderr",
     "output_type": "stream",
     "text": [
      "/tmp/ipykernel_3766/771879706.py:2: FutureWarning: The default value of observed=False is deprecated and will change to observed=True in a future version of pandas. Specify observed=False to silence this warning and retain the current behavior\n",
      "  media_experiencia = media_experiencia.pivot_table(index='job_category', columns='experience_level').fillna('-')\n"
     ]
    },
    {
     "data": {
      "text/html": [
       "<style type=\"text/css\">\n",
       "#T_aef83_row0_col0, #T_aef83_row0_col1, #T_aef83_row0_col2, #T_aef83_row0_col3, #T_aef83_row1_col0, #T_aef83_row1_col1, #T_aef83_row1_col2, #T_aef83_row1_col3, #T_aef83_row2_col0, #T_aef83_row2_col1, #T_aef83_row2_col2, #T_aef83_row2_col3, #T_aef83_row3_col0, #T_aef83_row3_col1, #T_aef83_row3_col2, #T_aef83_row3_col3, #T_aef83_row4_col0, #T_aef83_row4_col1, #T_aef83_row4_col2, #T_aef83_row4_col3, #T_aef83_row5_col0, #T_aef83_row5_col1, #T_aef83_row5_col2, #T_aef83_row5_col3, #T_aef83_row6_col0, #T_aef83_row6_col1, #T_aef83_row6_col2, #T_aef83_row6_col3, #T_aef83_row7_col0, #T_aef83_row7_col1, #T_aef83_row7_col2, #T_aef83_row7_col3, #T_aef83_row8_col0, #T_aef83_row8_col1, #T_aef83_row8_col2, #T_aef83_row8_col3, #T_aef83_row9_col0, #T_aef83_row9_col1, #T_aef83_row9_col2, #T_aef83_row9_col3 {\n",
       "  text-align: center;\n",
       "}\n",
       "</style>\n",
       "<table id=\"T_aef83\">\n",
       "  <thead>\n",
       "    <tr>\n",
       "      <th class=\"blank level0\" >&nbsp;</th>\n",
       "      <th id=\"T_aef83_level0_col0\" class=\"col_heading level0 col0\" colspan=\"4\">salary_in_usd</th>\n",
       "    </tr>\n",
       "    <tr>\n",
       "      <th class=\"index_name level1\" >experience_level</th>\n",
       "      <th id=\"T_aef83_level1_col0\" class=\"col_heading level1 col0\" >Entry-level</th>\n",
       "      <th id=\"T_aef83_level1_col1\" class=\"col_heading level1 col1\" >Executive</th>\n",
       "      <th id=\"T_aef83_level1_col2\" class=\"col_heading level1 col2\" >Mid-level</th>\n",
       "      <th id=\"T_aef83_level1_col3\" class=\"col_heading level1 col3\" >Senior</th>\n",
       "    </tr>\n",
       "    <tr>\n",
       "      <th class=\"index_name level0\" >job_category</th>\n",
       "      <th class=\"blank col0\" >&nbsp;</th>\n",
       "      <th class=\"blank col1\" >&nbsp;</th>\n",
       "      <th class=\"blank col2\" >&nbsp;</th>\n",
       "      <th class=\"blank col3\" >&nbsp;</th>\n",
       "    </tr>\n",
       "  </thead>\n",
       "  <tbody>\n",
       "    <tr>\n",
       "      <th id=\"T_aef83_level0_row0\" class=\"row_heading level0 row0\" >Machine Learning and AI</th>\n",
       "      <td id=\"T_aef83_row0_col0\" class=\"data row0 col0\" >89076.390625</td>\n",
       "      <td id=\"T_aef83_row0_col1\" class=\"data row0 col1\" >206510.461538</td>\n",
       "      <td id=\"T_aef83_row0_col2\" class=\"data row0 col2\" >136652.935323</td>\n",
       "      <td id=\"T_aef83_row0_col3\" class=\"data row0 col3\" >188502.095462</td>\n",
       "    </tr>\n",
       "    <tr>\n",
       "      <th id=\"T_aef83_level0_row1\" class=\"row_heading level0 row1\" >Leadership and Management</th>\n",
       "      <td id=\"T_aef83_row1_col0\" class=\"data row1 col0\" >81012.300000</td>\n",
       "      <td id=\"T_aef83_row1_col1\" class=\"data row1 col1\" >185376.000000</td>\n",
       "      <td id=\"T_aef83_row1_col2\" class=\"data row1 col2\" >122611.166667</td>\n",
       "      <td id=\"T_aef83_row1_col3\" class=\"data row1 col3\" >153097.017937</td>\n",
       "    </tr>\n",
       "    <tr>\n",
       "      <th id=\"T_aef83_level0_row2\" class=\"row_heading level0 row2\" >Data Science and Research</th>\n",
       "      <td id=\"T_aef83_row2_col0\" class=\"data row2 col0\" >94390.457143</td>\n",
       "      <td id=\"T_aef83_row2_col1\" class=\"data row2 col1\" >207188.567164</td>\n",
       "      <td id=\"T_aef83_row2_col2\" class=\"data row2 col2\" >124543.959350</td>\n",
       "      <td id=\"T_aef83_row2_col3\" class=\"data row2 col3\" >173307.555144</td>\n",
       "    </tr>\n",
       "    <tr>\n",
       "      <th id=\"T_aef83_level0_row3\" class=\"row_heading level0 row3\" >Data Quality and Operations</th>\n",
       "      <td id=\"T_aef83_row3_col0\" class=\"data row3 col0\" >36627.000000</td>\n",
       "      <td id=\"T_aef83_row3_col1\" class=\"data row3 col1\" >-</td>\n",
       "      <td id=\"T_aef83_row3_col2\" class=\"data row3 col2\" >67474.000000</td>\n",
       "      <td id=\"T_aef83_row3_col3\" class=\"data row3 col3\" >122554.687500</td>\n",
       "    </tr>\n",
       "    <tr>\n",
       "      <th id=\"T_aef83_level0_row4\" class=\"row_heading level0 row4\" >Data Management and Strategy</th>\n",
       "      <td id=\"T_aef83_row4_col0\" class=\"data row4 col0\" >93665.000000</td>\n",
       "      <td id=\"T_aef83_row4_col1\" class=\"data row4 col1\" >-</td>\n",
       "      <td id=\"T_aef83_row4_col2\" class=\"data row4 col2\" >109000.000000</td>\n",
       "      <td id=\"T_aef83_row4_col3\" class=\"data row4 col3\" >112364.846154</td>\n",
       "    </tr>\n",
       "    <tr>\n",
       "      <th id=\"T_aef83_level0_row5\" class=\"row_heading level0 row5\" >Data Engineering</th>\n",
       "      <td id=\"T_aef83_row5_col0\" class=\"data row5 col0\" >87876.272727</td>\n",
       "      <td id=\"T_aef83_row5_col1\" class=\"data row5 col1\" >185759.320000</td>\n",
       "      <td id=\"T_aef83_row5_col2\" class=\"data row5 col2\" >111848.898649</td>\n",
       "      <td id=\"T_aef83_row5_col3\" class=\"data row5 col3\" >155272.386921</td>\n",
       "    </tr>\n",
       "    <tr>\n",
       "      <th id=\"T_aef83_level0_row6\" class=\"row_heading level0 row6\" >Data Architecture and Modeling</th>\n",
       "      <td id=\"T_aef83_row6_col0\" class=\"data row6 col0\" >-</td>\n",
       "      <td id=\"T_aef83_row6_col1\" class=\"data row6 col1\" >167500.000000</td>\n",
       "      <td id=\"T_aef83_row6_col2\" class=\"data row6 col2\" >123644.888889</td>\n",
       "      <td id=\"T_aef83_row6_col3\" class=\"data row6 col3\" >163679.225564</td>\n",
       "    </tr>\n",
       "    <tr>\n",
       "      <th id=\"T_aef83_level0_row7\" class=\"row_heading level0 row7\" >Data Analysis</th>\n",
       "      <td id=\"T_aef83_row7_col0\" class=\"data row7 col0\" >69169.810811</td>\n",
       "      <td id=\"T_aef83_row7_col1\" class=\"data row7 col1\" >110156.250000</td>\n",
       "      <td id=\"T_aef83_row7_col2\" class=\"data row7 col2\" >94690.933610</td>\n",
       "      <td id=\"T_aef83_row7_col3\" class=\"data row7 col3\" >122596.702948</td>\n",
       "    </tr>\n",
       "    <tr>\n",
       "      <th id=\"T_aef83_level0_row8\" class=\"row_heading level0 row8\" >Cloud and Database</th>\n",
       "      <td id=\"T_aef83_row8_col0\" class=\"data row8 col0\" >-</td>\n",
       "      <td id=\"T_aef83_row8_col1\" class=\"data row8 col1\" >-</td>\n",
       "      <td id=\"T_aef83_row8_col2\" class=\"data row8 col2\" >-</td>\n",
       "      <td id=\"T_aef83_row8_col3\" class=\"data row8 col3\" >155000.000000</td>\n",
       "    </tr>\n",
       "    <tr>\n",
       "      <th id=\"T_aef83_level0_row9\" class=\"row_heading level0 row9\" >BI and Visualization</th>\n",
       "      <td id=\"T_aef83_row9_col0\" class=\"data row9 col0\" >85928.571429</td>\n",
       "      <td id=\"T_aef83_row9_col1\" class=\"data row9 col1\" >173425.000000</td>\n",
       "      <td id=\"T_aef83_row9_col2\" class=\"data row9 col2\" >100807.488889</td>\n",
       "      <td id=\"T_aef83_row9_col3\" class=\"data row9 col3\" >138662.704545</td>\n",
       "    </tr>\n",
       "  </tbody>\n",
       "</table>\n"
      ],
      "text/plain": [
       "<pandas.io.formats.style.Styler at 0x7faf49808580>"
      ]
     },
     "execution_count": 95,
     "metadata": {},
     "output_type": "execute_result"
    }
   ],
   "source": [
    "# Transformando em uma Tabela Dinâmica e substituindo os valores vazios\n",
    "media_experiencia = media_experiencia.pivot_table(index='job_category', columns='experience_level').fillna('-')\n",
    "\n",
    "# Ordenando os dados pela categoria\n",
    "media_experiencia = media_experiencia.sort_values(by='job_category', ascending=False)\n",
    "\n",
    "# Centralizando e formatando a tabela\n",
    "media_experiencia.style.set_properties(**{'text-align': 'center'})"
   ]
  },
  {
   "cell_type": "markdown",
   "metadata": {},
   "source": [
    "- agrupando os dados com as informações de experience_level"
   ]
  },
  {
   "cell_type": "code",
   "execution_count": 96,
   "metadata": {},
   "outputs": [
    {
     "name": "stderr",
     "output_type": "stream",
     "text": [
      "/tmp/ipykernel_3766/4122062010.py:2: FutureWarning: The default of observed=False is deprecated and will be changed to True in a future version of pandas. Pass observed=False to retain current behavior or observed=True to adopt the future default and silence this warning.\n",
      "  group2 = data.groupby(['work_year', 'job_category', 'experience_level']).size().reset_index(name='quantidade')\n"
     ]
    }
   ],
   "source": [
    "# Agrupando os dados contando os valores pelo número de ocorrências\n",
    "group2 = data.groupby(['work_year', 'job_category', 'experience_level']).size().reset_index(name='quantidade')\n",
    "\n",
    "# Ordenando os dados pelo ano, depois pela quantidade de ocorrência\n",
    "group2 = group2.sort_values(['work_year', 'quantidade'], ascending=[True, False])\n",
    "\n",
    "# Filtrando os dados para manter somente valores existentes\n",
    "group2 = group2[group2['quantidade'] > 0]"
   ]
  },
  {
   "cell_type": "markdown",
   "metadata": {},
   "source": [
    "- quantidade vagas por área de atuação e nível de experiência exigido de 2020 até 2023"
   ]
  },
  {
   "cell_type": "code",
   "execution_count": 97,
   "metadata": {},
   "outputs": [
    {
     "data": {
      "text/html": [
       "<div>\n",
       "<style scoped>\n",
       "    .dataframe tbody tr th:only-of-type {\n",
       "        vertical-align: middle;\n",
       "    }\n",
       "\n",
       "    .dataframe tbody tr th {\n",
       "        vertical-align: top;\n",
       "    }\n",
       "\n",
       "    .dataframe thead th {\n",
       "        text-align: right;\n",
       "    }\n",
       "</style>\n",
       "<table border=\"1\" class=\"dataframe\">\n",
       "  <thead>\n",
       "    <tr style=\"text-align: right;\">\n",
       "      <th></th>\n",
       "      <th>work_year</th>\n",
       "      <th>job_category</th>\n",
       "      <th>experience_level</th>\n",
       "      <th>quantidade</th>\n",
       "    </tr>\n",
       "  </thead>\n",
       "  <tbody>\n",
       "    <tr>\n",
       "      <th>127</th>\n",
       "      <td>2023</td>\n",
       "      <td>Cloud and Database</td>\n",
       "      <td>Senior</td>\n",
       "      <td>3</td>\n",
       "    </tr>\n",
       "    <tr>\n",
       "      <th>144</th>\n",
       "      <td>2023</td>\n",
       "      <td>Data Quality and Operations</td>\n",
       "      <td>Entry-level</td>\n",
       "      <td>3</td>\n",
       "    </tr>\n",
       "    <tr>\n",
       "      <th>133</th>\n",
       "      <td>2023</td>\n",
       "      <td>Data Architecture and Modeling</td>\n",
       "      <td>Executive</td>\n",
       "      <td>2</td>\n",
       "    </tr>\n",
       "  </tbody>\n",
       "</table>\n",
       "</div>"
      ],
      "text/plain": [
       "     work_year                    job_category experience_level  quantidade\n",
       "127       2023              Cloud and Database           Senior           3\n",
       "144       2023     Data Quality and Operations      Entry-level           3\n",
       "133       2023  Data Architecture and Modeling        Executive           2"
      ]
     },
     "execution_count": 97,
     "metadata": {},
     "output_type": "execute_result"
    }
   ],
   "source": [
    "group2.tail(3)"
   ]
  },
  {
   "cell_type": "markdown",
   "metadata": {},
   "source": [
    "- filtrando somente para vagas de Data Engineering com nível de experiência Senior"
   ]
  },
  {
   "cell_type": "code",
   "execution_count": 98,
   "metadata": {},
   "outputs": [
    {
     "data": {
      "text/html": [
       "<div>\n",
       "<style scoped>\n",
       "    .dataframe tbody tr th:only-of-type {\n",
       "        vertical-align: middle;\n",
       "    }\n",
       "\n",
       "    .dataframe tbody tr th {\n",
       "        vertical-align: top;\n",
       "    }\n",
       "\n",
       "    .dataframe thead th {\n",
       "        text-align: right;\n",
       "    }\n",
       "</style>\n",
       "<table border=\"1\" class=\"dataframe\">\n",
       "  <thead>\n",
       "    <tr style=\"text-align: right;\">\n",
       "      <th></th>\n",
       "      <th>work_year</th>\n",
       "      <th>job_category</th>\n",
       "      <th>experience_level</th>\n",
       "      <th>quantidade</th>\n",
       "    </tr>\n",
       "  </thead>\n",
       "  <tbody>\n",
       "    <tr>\n",
       "      <th>19</th>\n",
       "      <td>2020</td>\n",
       "      <td>Data Engineering</td>\n",
       "      <td>Senior</td>\n",
       "      <td>5</td>\n",
       "    </tr>\n",
       "    <tr>\n",
       "      <th>59</th>\n",
       "      <td>2021</td>\n",
       "      <td>Data Engineering</td>\n",
       "      <td>Senior</td>\n",
       "      <td>17</td>\n",
       "    </tr>\n",
       "    <tr>\n",
       "      <th>99</th>\n",
       "      <td>2022</td>\n",
       "      <td>Data Engineering</td>\n",
       "      <td>Senior</td>\n",
       "      <td>194</td>\n",
       "    </tr>\n",
       "    <tr>\n",
       "      <th>139</th>\n",
       "      <td>2023</td>\n",
       "      <td>Data Engineering</td>\n",
       "      <td>Senior</td>\n",
       "      <td>518</td>\n",
       "    </tr>\n",
       "  </tbody>\n",
       "</table>\n",
       "</div>"
      ],
      "text/plain": [
       "     work_year      job_category experience_level  quantidade\n",
       "19        2020  Data Engineering           Senior           5\n",
       "59        2021  Data Engineering           Senior          17\n",
       "99        2022  Data Engineering           Senior         194\n",
       "139       2023  Data Engineering           Senior         518"
      ]
     },
     "execution_count": 98,
     "metadata": {},
     "output_type": "execute_result"
    }
   ],
   "source": [
    "filtro = (group2['job_category'] == 'Data Engineering') & (group2['experience_level'] == 'Senior')\n",
    "group2[filtro]"
   ]
  },
  {
   "cell_type": "markdown",
   "metadata": {},
   "source": [
    "#### Agregação de dados e operações de grupo 2"
   ]
  },
  {
   "cell_type": "markdown",
   "metadata": {},
   "source": [
    "- agrupando para visualizar informações de salários"
   ]
  },
  {
   "cell_type": "code",
   "execution_count": 99,
   "metadata": {},
   "outputs": [
    {
     "name": "stderr",
     "output_type": "stream",
     "text": [
      "/tmp/ipykernel_3766/1879001327.py:2: FutureWarning: The default of observed=False is deprecated and will be changed to True in a future version of pandas. Pass observed=False to retain current behavior or observed=True to adopt the future default and silence this warning.\n",
      "  grouped3 = data.groupby(['work_year', 'job_title', 'experience_level', 'salary_in_usd']).size().reset_index(name='quantidade')\n"
     ]
    }
   ],
   "source": [
    "# Agrupando os dados contando os valores pelo número de ocorrências\n",
    "grouped3 = data.groupby(['work_year', 'job_title', 'experience_level', 'salary_in_usd']).size().reset_index(name='quantidade')\n",
    "\n",
    "# Filtrando os dados para manter somente valores existentes \n",
    "grouped3 = grouped3[grouped3['quantidade'] > 0]"
   ]
  },
  {
   "cell_type": "code",
   "execution_count": 100,
   "metadata": {},
   "outputs": [
    {
     "data": {
      "text/html": [
       "<div>\n",
       "<style scoped>\n",
       "    .dataframe tbody tr th:only-of-type {\n",
       "        vertical-align: middle;\n",
       "    }\n",
       "\n",
       "    .dataframe tbody tr th {\n",
       "        vertical-align: top;\n",
       "    }\n",
       "\n",
       "    .dataframe thead th {\n",
       "        text-align: right;\n",
       "    }\n",
       "</style>\n",
       "<table border=\"1\" class=\"dataframe\">\n",
       "  <thead>\n",
       "    <tr style=\"text-align: right;\">\n",
       "      <th></th>\n",
       "      <th>work_year</th>\n",
       "      <th>job_title</th>\n",
       "      <th>experience_level</th>\n",
       "      <th>salary_in_usd</th>\n",
       "      <th>quantidade</th>\n",
       "    </tr>\n",
       "  </thead>\n",
       "  <tbody>\n",
       "    <tr>\n",
       "      <th>35830</th>\n",
       "      <td>2020</td>\n",
       "      <td>AI Scientist</td>\n",
       "      <td>Entry-level</td>\n",
       "      <td>45896</td>\n",
       "      <td>1</td>\n",
       "    </tr>\n",
       "    <tr>\n",
       "      <th>100542</th>\n",
       "      <td>2020</td>\n",
       "      <td>Azure Data Engineer</td>\n",
       "      <td>Entry-level</td>\n",
       "      <td>100000</td>\n",
       "      <td>1</td>\n",
       "    </tr>\n",
       "    <tr>\n",
       "      <th>118387</th>\n",
       "      <td>2020</td>\n",
       "      <td>BI Data Analyst</td>\n",
       "      <td>Mid-level</td>\n",
       "      <td>98000</td>\n",
       "      <td>1</td>\n",
       "    </tr>\n",
       "    <tr>\n",
       "      <th>143162</th>\n",
       "      <td>2020</td>\n",
       "      <td>Big Data Engineer</td>\n",
       "      <td>Entry-level</td>\n",
       "      <td>70000</td>\n",
       "      <td>1</td>\n",
       "    </tr>\n",
       "    <tr>\n",
       "      <th>148841</th>\n",
       "      <td>2020</td>\n",
       "      <td>Big Data Engineer</td>\n",
       "      <td>Senior</td>\n",
       "      <td>109024</td>\n",
       "      <td>1</td>\n",
       "    </tr>\n",
       "    <tr>\n",
       "      <th>148892</th>\n",
       "      <td>2020</td>\n",
       "      <td>Big Data Engineer</td>\n",
       "      <td>Senior</td>\n",
       "      <td>114047</td>\n",
       "      <td>1</td>\n",
       "    </tr>\n",
       "    <tr>\n",
       "      <th>150550</th>\n",
       "      <td>2020</td>\n",
       "      <td>Business Data Analyst</td>\n",
       "      <td>Entry-level</td>\n",
       "      <td>100000</td>\n",
       "      <td>1</td>\n",
       "    </tr>\n",
       "    <tr>\n",
       "      <th>154083</th>\n",
       "      <td>2020</td>\n",
       "      <td>Business Data Analyst</td>\n",
       "      <td>Mid-level</td>\n",
       "      <td>95000</td>\n",
       "      <td>1</td>\n",
       "    </tr>\n",
       "    <tr>\n",
       "      <th>154460</th>\n",
       "      <td>2020</td>\n",
       "      <td>Business Data Analyst</td>\n",
       "      <td>Mid-level</td>\n",
       "      <td>135000</td>\n",
       "      <td>1</td>\n",
       "    </tr>\n",
       "    <tr>\n",
       "      <th>234168</th>\n",
       "      <td>2020</td>\n",
       "      <td>Computer Vision Engineer</td>\n",
       "      <td>Senior</td>\n",
       "      <td>60000</td>\n",
       "      <td>1</td>\n",
       "    </tr>\n",
       "  </tbody>\n",
       "</table>\n",
       "</div>"
      ],
      "text/plain": [
       "        work_year                 job_title experience_level  salary_in_usd  \\\n",
       "35830        2020              AI Scientist      Entry-level          45896   \n",
       "100542       2020       Azure Data Engineer      Entry-level         100000   \n",
       "118387       2020           BI Data Analyst        Mid-level          98000   \n",
       "143162       2020         Big Data Engineer      Entry-level          70000   \n",
       "148841       2020         Big Data Engineer           Senior         109024   \n",
       "148892       2020         Big Data Engineer           Senior         114047   \n",
       "150550       2020     Business Data Analyst      Entry-level         100000   \n",
       "154083       2020     Business Data Analyst        Mid-level          95000   \n",
       "154460       2020     Business Data Analyst        Mid-level         135000   \n",
       "234168       2020  Computer Vision Engineer           Senior          60000   \n",
       "\n",
       "        quantidade  \n",
       "35830            1  \n",
       "100542           1  \n",
       "118387           1  \n",
       "143162           1  \n",
       "148841           1  \n",
       "148892           1  \n",
       "150550           1  \n",
       "154083           1  \n",
       "154460           1  \n",
       "234168           1  "
      ]
     },
     "execution_count": 100,
     "metadata": {},
     "output_type": "execute_result"
    }
   ],
   "source": [
    "grouped3.head(10) # Exibindo a tabela dinâmica"
   ]
  },
  {
   "cell_type": "markdown",
   "metadata": {},
   "source": [
    "- top 10 salários mais altos por tipo de cargo e nível de experiência no ano de 2023"
   ]
  },
  {
   "cell_type": "code",
   "execution_count": 101,
   "metadata": {},
   "outputs": [
    {
     "data": {
      "text/html": [
       "<div>\n",
       "<style scoped>\n",
       "    .dataframe tbody tr th:only-of-type {\n",
       "        vertical-align: middle;\n",
       "    }\n",
       "\n",
       "    .dataframe tbody tr th {\n",
       "        vertical-align: top;\n",
       "    }\n",
       "\n",
       "    .dataframe thead th {\n",
       "        text-align: right;\n",
       "    }\n",
       "</style>\n",
       "<table border=\"1\" class=\"dataframe\">\n",
       "  <thead>\n",
       "    <tr style=\"text-align: right;\">\n",
       "      <th></th>\n",
       "      <th>work_year</th>\n",
       "      <th>job_title</th>\n",
       "      <th>experience_level</th>\n",
       "      <th>salary_in_usd</th>\n",
       "      <th>quantidade</th>\n",
       "    </tr>\n",
       "  </thead>\n",
       "  <tbody>\n",
       "    <tr>\n",
       "      <th>2743288</th>\n",
       "      <td>2023</td>\n",
       "      <td>Analytics Engineering Manager</td>\n",
       "      <td>Senior</td>\n",
       "      <td>399880</td>\n",
       "      <td>1</td>\n",
       "    </tr>\n",
       "    <tr>\n",
       "      <th>3371959</th>\n",
       "      <td>2023</td>\n",
       "      <td>Machine Learning Engineer</td>\n",
       "      <td>Senior</td>\n",
       "      <td>392000</td>\n",
       "      <td>1</td>\n",
       "    </tr>\n",
       "    <tr>\n",
       "      <th>3529126</th>\n",
       "      <td>2023</td>\n",
       "      <td>Research Engineer</td>\n",
       "      <td>Senior</td>\n",
       "      <td>385000</td>\n",
       "      <td>1</td>\n",
       "    </tr>\n",
       "    <tr>\n",
       "      <th>2936174</th>\n",
       "      <td>2023</td>\n",
       "      <td>Data Analyst</td>\n",
       "      <td>Senior</td>\n",
       "      <td>385000</td>\n",
       "      <td>1</td>\n",
       "    </tr>\n",
       "    <tr>\n",
       "      <th>3000470</th>\n",
       "      <td>2023</td>\n",
       "      <td>Data Engineer</td>\n",
       "      <td>Senior</td>\n",
       "      <td>385000</td>\n",
       "      <td>1</td>\n",
       "    </tr>\n",
       "    <tr>\n",
       "      <th>3007614</th>\n",
       "      <td>2023</td>\n",
       "      <td>Data Infrastructure Engineer</td>\n",
       "      <td>Senior</td>\n",
       "      <td>385000</td>\n",
       "      <td>1</td>\n",
       "    </tr>\n",
       "    <tr>\n",
       "      <th>3350526</th>\n",
       "      <td>2023</td>\n",
       "      <td>ML Engineer</td>\n",
       "      <td>Senior</td>\n",
       "      <td>385000</td>\n",
       "      <td>1</td>\n",
       "    </tr>\n",
       "    <tr>\n",
       "      <th>3350525</th>\n",
       "      <td>2023</td>\n",
       "      <td>ML Engineer</td>\n",
       "      <td>Senior</td>\n",
       "      <td>383910</td>\n",
       "      <td>1</td>\n",
       "    </tr>\n",
       "    <tr>\n",
       "      <th>2979035</th>\n",
       "      <td>2023</td>\n",
       "      <td>Data Architect</td>\n",
       "      <td>Senior</td>\n",
       "      <td>376080</td>\n",
       "      <td>1</td>\n",
       "    </tr>\n",
       "    <tr>\n",
       "      <th>3536264</th>\n",
       "      <td>2023</td>\n",
       "      <td>Research Scientist</td>\n",
       "      <td>Senior</td>\n",
       "      <td>374000</td>\n",
       "      <td>1</td>\n",
       "    </tr>\n",
       "  </tbody>\n",
       "</table>\n",
       "</div>"
      ],
      "text/plain": [
       "         work_year                      job_title experience_level  \\\n",
       "2743288       2023  Analytics Engineering Manager           Senior   \n",
       "3371959       2023      Machine Learning Engineer           Senior   \n",
       "3529126       2023              Research Engineer           Senior   \n",
       "2936174       2023                   Data Analyst           Senior   \n",
       "3000470       2023                  Data Engineer           Senior   \n",
       "3007614       2023   Data Infrastructure Engineer           Senior   \n",
       "3350526       2023                    ML Engineer           Senior   \n",
       "3350525       2023                    ML Engineer           Senior   \n",
       "2979035       2023                 Data Architect           Senior   \n",
       "3536264       2023             Research Scientist           Senior   \n",
       "\n",
       "         salary_in_usd  quantidade  \n",
       "2743288         399880           1  \n",
       "3371959         392000           1  \n",
       "3529126         385000           1  \n",
       "2936174         385000           1  \n",
       "3000470         385000           1  \n",
       "3007614         385000           1  \n",
       "3350526         385000           1  \n",
       "3350525         383910           1  \n",
       "2979035         376080           1  \n",
       "3536264         374000           1  "
      ]
     },
     "execution_count": 101,
     "metadata": {},
     "output_type": "execute_result"
    }
   ],
   "source": [
    "filtro3 = (grouped3['work_year'] == 2023) & (grouped3['experience_level'] == 'Senior') \n",
    "grouped3[filtro3].sort_values(by='salary_in_usd', ascending=False).head(10) # ordenando os dados"
   ]
  },
  {
   "cell_type": "markdown",
   "metadata": {},
   "source": [
    "#### Visualizações com matplotlib"
   ]
  },
  {
   "cell_type": "code",
   "execution_count": 102,
   "metadata": {},
   "outputs": [
    {
     "data": {
      "text/html": [
       "<div>\n",
       "<style scoped>\n",
       "    .dataframe tbody tr th:only-of-type {\n",
       "        vertical-align: middle;\n",
       "    }\n",
       "\n",
       "    .dataframe tbody tr th {\n",
       "        vertical-align: top;\n",
       "    }\n",
       "\n",
       "    .dataframe thead th {\n",
       "        text-align: right;\n",
       "    }\n",
       "</style>\n",
       "<table border=\"1\" class=\"dataframe\">\n",
       "  <thead>\n",
       "    <tr style=\"text-align: right;\">\n",
       "      <th></th>\n",
       "      <th>job_category</th>\n",
       "      <th>quantidade</th>\n",
       "    </tr>\n",
       "  </thead>\n",
       "  <tbody>\n",
       "    <tr>\n",
       "      <th>0</th>\n",
       "      <td>Data Science and Research</td>\n",
       "      <td>1655</td>\n",
       "    </tr>\n",
       "    <tr>\n",
       "      <th>1</th>\n",
       "      <td>Data Engineering</td>\n",
       "      <td>1160</td>\n",
       "    </tr>\n",
       "    <tr>\n",
       "      <th>2</th>\n",
       "      <td>Machine Learning and AI</td>\n",
       "      <td>917</td>\n",
       "    </tr>\n",
       "    <tr>\n",
       "      <th>3</th>\n",
       "      <td>Data Analysis</td>\n",
       "      <td>809</td>\n",
       "    </tr>\n",
       "    <tr>\n",
       "      <th>4</th>\n",
       "      <td>Leadership and Management</td>\n",
       "      <td>351</td>\n",
       "    </tr>\n",
       "    <tr>\n",
       "      <th>5</th>\n",
       "      <td>BI and Visualization</td>\n",
       "      <td>188</td>\n",
       "    </tr>\n",
       "    <tr>\n",
       "      <th>6</th>\n",
       "      <td>Data Architecture and Modeling</td>\n",
       "      <td>162</td>\n",
       "    </tr>\n",
       "    <tr>\n",
       "      <th>7</th>\n",
       "      <td>Data Management and Strategy</td>\n",
       "      <td>49</td>\n",
       "    </tr>\n",
       "    <tr>\n",
       "      <th>8</th>\n",
       "      <td>Data Quality and Operations</td>\n",
       "      <td>45</td>\n",
       "    </tr>\n",
       "    <tr>\n",
       "      <th>9</th>\n",
       "      <td>Cloud and Database</td>\n",
       "      <td>5</td>\n",
       "    </tr>\n",
       "  </tbody>\n",
       "</table>\n",
       "</div>"
      ],
      "text/plain": [
       "                     job_category  quantidade\n",
       "0       Data Science and Research        1655\n",
       "1                Data Engineering        1160\n",
       "2         Machine Learning and AI         917\n",
       "3                   Data Analysis         809\n",
       "4       Leadership and Management         351\n",
       "5            BI and Visualization         188\n",
       "6  Data Architecture and Modeling         162\n",
       "7    Data Management and Strategy          49\n",
       "8     Data Quality and Operations          45\n",
       "9              Cloud and Database           5"
      ]
     },
     "execution_count": 102,
     "metadata": {},
     "output_type": "execute_result"
    }
   ],
   "source": [
    "total_categoria = data['job_category'].value_counts().reset_index(name='quantidade')\n",
    "total_categoria # Contando a quantidade por categoria e renomeando a coluna"
   ]
  },
  {
   "cell_type": "code",
   "execution_count": 103,
   "metadata": {},
   "outputs": [
    {
     "data": {
      "text/html": [
       "<div>\n",
       "<style scoped>\n",
       "    .dataframe tbody tr th:only-of-type {\n",
       "        vertical-align: middle;\n",
       "    }\n",
       "\n",
       "    .dataframe tbody tr th {\n",
       "        vertical-align: top;\n",
       "    }\n",
       "\n",
       "    .dataframe thead th {\n",
       "        text-align: right;\n",
       "    }\n",
       "</style>\n",
       "<table border=\"1\" class=\"dataframe\">\n",
       "  <thead>\n",
       "    <tr style=\"text-align: right;\">\n",
       "      <th></th>\n",
       "      <th>experience_level</th>\n",
       "      <th>quantidade</th>\n",
       "    </tr>\n",
       "  </thead>\n",
       "  <tbody>\n",
       "    <tr>\n",
       "      <th>0</th>\n",
       "      <td>Senior</td>\n",
       "      <td>3444</td>\n",
       "    </tr>\n",
       "    <tr>\n",
       "      <th>1</th>\n",
       "      <td>Mid-level</td>\n",
       "      <td>1274</td>\n",
       "    </tr>\n",
       "    <tr>\n",
       "      <th>2</th>\n",
       "      <td>Entry-level</td>\n",
       "      <td>400</td>\n",
       "    </tr>\n",
       "    <tr>\n",
       "      <th>3</th>\n",
       "      <td>Executive</td>\n",
       "      <td>223</td>\n",
       "    </tr>\n",
       "  </tbody>\n",
       "</table>\n",
       "</div>"
      ],
      "text/plain": [
       "  experience_level  quantidade\n",
       "0           Senior        3444\n",
       "1        Mid-level        1274\n",
       "2      Entry-level         400\n",
       "3        Executive         223"
      ]
     },
     "execution_count": 103,
     "metadata": {},
     "output_type": "execute_result"
    }
   ],
   "source": [
    "nivel_experiencia = data['experience_level'].value_counts().reset_index(name='quantidade')\n",
    "nivel_experiencia # Contando a quantidade por categoria e renomeando a coluna"
   ]
  },
  {
   "cell_type": "code",
   "execution_count": 104,
   "metadata": {},
   "outputs": [
    {
     "data": {
      "image/png": "[encoded data removed]",
      "text/plain": [
       "<Figure size 1200x500 with 2 Axes>"
      ]
     },
     "metadata": {},
     "output_type": "display_data"
    }
   ],
   "source": [
    "# Definindo os subplots\n",
    "plt.figure(figsize=(12, 5))\n",
    "\n",
    "# Subplot 1\n",
    "plt.subplot(1, 2, 1)  # Uma linha, duas colunas, primeiro subplot\n",
    "plt.barh(total_categoria['job_category'], total_categoria['quantidade'], color='grey', alpha=0.7)\n",
    "plt.title('Quantidade de vagas por área de atuação')\n",
    "\n",
    "# Subplot 2\n",
    "plt.subplot(1, 2, 2)  # Uma linha, duas colunas, segundo subplot\n",
    "plt.barh(nivel_experiencia['experience_level'], nivel_experiencia['quantidade'], color='grey', alpha=0.6)\n",
    "plt.title('Nível de experiência exigido')\n",
    "\n",
    "plt.tight_layout()  # Ajusta automaticamente a disposição dos subplots para evitar sobreposição\n",
    "plt.show()"
   ]
  },
  {
   "cell_type": "code",
   "execution_count": null,
   "metadata": {},
   "outputs": [],
   "source": []
  }
 ],
 "metadata": {
  "kernelspec": {
   "display_name": "Python 3",
   "language": "python",
   "name": "python3"
  },
  "language_info": {
   "codemirror_mode": {
    "name": "ipython",
    "version": 3
   },
   "file_extension": ".py",
   "mimetype": "text/x-python",
   "name": "python",
   "nbconvert_exporter": "python",
   "pygments_lexer": "ipython3",
   "version": "3.10.12"
  }
 },
 "nbformat": 4,
 "nbformat_minor": 2
}
